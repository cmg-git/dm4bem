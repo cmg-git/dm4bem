{
 "cells": [
  {
   "cell_type": "markdown",
   "id": "94f67a35-4283-4164-82f9-499c199f2804",
   "metadata": {
    "tags": []
   },
   "source": [
    "$$\\LARGE \\text{Load as a control problem: steady-state}$$\n",
    "\n",
    "[Markdown and LaTeX introduction](https://ashki23.github.io/markdown-latex.html)\n",
    "\n",
    "[Markdown: Google style guide](https://google.github.io/styleguide/docguide/style.html#prefer-lists-to-tables)\n",
    "\n",
    "\n",
    "![inv_vs_control](simple_steady_state.png)\n",
    "> Problem of finding the load $\\dot{Q}_{HVAC}$: a) inverse problem; b) transformation into control problem.\n",
    "\n",
    "# Problem statement\n",
    "> Given the oudoor temperature, $T0$, and the overall heat transfer coefficient, $G_0$, find the load, $\\dot{Q}_{HVAC}$, so that the indoor temperature is $\\theta_0$.\n",
    "\n",
    "This is an inverse problem of control: the physical output, $\\theta_0$, is known and the physical input, $\\dot{Q}_{HVAC}$, is required.\n",
    "\n",
    "![direct_inverse_problem](direct_inverse_problem.png)\n",
    "> Direct and inverse problems: a) physical causality; b) direct problem: the inputs and the outputs of the model are a subset of the physical inputs and outputs; c) control problem: the physical input is an unknown, the physical output is known; d) parameter identification: the inputs and the outputs are known, the (parameters of the) model are unknown."
   ]
  },
  {
   "cell_type": "code",
   "execution_count": 1,
   "id": "715d7d30-9614-41f2-b67e-8c6c55d514d1",
   "metadata": {},
   "outputs": [],
   "source": [
    "import numpy as np\n",
    "\n",
    "To = -5     # °C outdoor temperature\n",
    "Tisp = 18   # °C (desired = set point) indoor temperature\n",
    "\n",
    "λ = 1.4     # W/(m K)\n",
    "w = 0.15    # m\n",
    "S = 3       # m^2\n",
    "U = λ / w"
   ]
  },
  {
   "cell_type": "markdown",
   "id": "a1be9189-e1d0-4f3e-8248-3ffbedef862f",
   "metadata": {
    "tags": []
   },
   "source": [
    "# Inverse problem\n",
    "\n",
    "In this simple case, the inverse problem may be solved by finding $q_0$ and then $q_1 = - q_0$:"
   ]
  },
  {
   "cell_type": "code",
   "execution_count": 2,
   "id": "13df7d9f-0b6d-498c-aa01-95da57aa43dc",
   "metadata": {},
   "outputs": [
    {
     "name": "stdout",
     "output_type": "stream",
     "text": [
      "q1 = 644.00 W\n"
     ]
    }
   ],
   "source": [
    "q0 = U * S * (To - Tisp)\n",
    "q1 = -q0\n",
    "print(f\"q1 = {q1:.2f} W\")"
   ]
  },
  {
   "cell_type": "markdown",
   "id": "02baf108-f827-4e61-aea9-6ae6c20915f8",
   "metadata": {
    "tags": []
   },
   "source": [
    "# Inverse problem as a control problem\n",
    "\n",
    "A proportional controller is introduced in order to obtain $\\theta_0 \\rightarrow T_{i, sp}$:\n",
    "$$q_1 = K_p (T_{i,sp} - \\theta_0)$$\n",
    "\n",
    "The invere problem becomes a direct problem:"
   ]
  },
  {
   "cell_type": "code",
   "execution_count": 3,
   "id": "7a140e38-bef6-44e8-8dc1-435213144518",
   "metadata": {},
   "outputs": [],
   "source": [
    "def direct_problem(Kp):\n",
    "    Kp = 10 ** float(exp)\n",
    "    A = np.array([[1],\n",
    "                  [1]])\n",
    "    G = np.array([[U * S, 0],\n",
    "                  [0, Kp]])\n",
    "    b = np.array([To, Tisp])\n",
    "    f = 0\n",
    "\n",
    "    θ = np.linalg.inv(A.T @ G @ A) @ (A.T @ G @ b + f)\n",
    "    q = G @ (-A @ θ + b)\n",
    "    return θ, q"
   ]
  },
  {
   "cell_type": "markdown",
   "id": "fc736eeb-8a2c-47b1-9e8f-388acda4dfbe",
   "metadata": {
    "tags": []
   },
   "source": [
    "When $K_p \\rightarrow \\infty$, $\\theta_0 \\rightarrow T_{i,sp}$:"
   ]
  },
  {
   "cell_type": "code",
   "execution_count": 4,
   "id": "402dcb13-fea8-4909-81b5-ef457f0343d4",
   "metadata": {},
   "outputs": [
    {
     "name": "stdout",
     "output_type": "stream",
     "text": [
      "       Kp    θ [°C]     q [W]\n",
      "    1e-04     -5.00      0.00\n",
      "    1e-03     -5.00      0.02\n",
      "    1e-02     -4.99      0.23\n",
      "    1e-01     -4.92      2.29\n",
      "    1e+00     -4.21     22.21\n",
      "    1e+01      1.05    169.47\n",
      "    1e+02     12.97    503.12\n",
      "    1e+03     17.37    626.46\n",
      "    1e+04     17.94    642.20\n",
      "    1e+05     17.99    643.82\n",
      "    1e+06     18.00    643.98\n",
      "    1e+07     18.00    644.00\n"
     ]
    }
   ],
   "source": [
    "print(f\"{'Kp': >9} {'θ [°C]': >9} {'q [W]': >9}\")\n",
    "for exp in np.arange(-4, 8):\n",
    "    Kp = 10 ** float(exp)\n",
    "    θ, q = direct_problem(Kp)\n",
    "    print(f\"{Kp: >9.0e} {θ[0]: >9.2f} {q[1]: >9.2f}\")"
   ]
  },
  {
   "cell_type": "code",
   "execution_count": null,
   "id": "22974d27-83c2-44ad-af16-b0cc600b5c62",
   "metadata": {},
   "outputs": [],
   "source": []
  }
 ],
 "metadata": {
  "kernelspec": {
   "display_name": "Python 3",
   "language": "python",
   "name": "python3"
  },
  "language_info": {
   "codemirror_mode": {
    "name": "ipython",
    "version": 3
   },
   "file_extension": ".py",
   "mimetype": "text/x-python",
   "name": "python",
   "nbconvert_exporter": "python",
   "pygments_lexer": "ipython3",
   "version": "3.8.8"
  }
 },
 "nbformat": 4,
 "nbformat_minor": 5
}
