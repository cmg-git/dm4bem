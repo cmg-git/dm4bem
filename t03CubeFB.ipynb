{
 "cells": [
  {
   "cell_type": "markdown",
   "id": "15ba5716-0fe4-4c42-98f4-b78812b3ca48",
   "metadata": {},
   "source": [
    "import numpy as np\n",
    "import pandas as pd\n",
    "import matplotlib.pyplot as plt\n",
    "import dm4bem# Cube with two types of walls and feed-back indoor temperature control\n",
    "\n",
    "Objectives:\n",
    "- Physical analysis of a cube with 5 concrete walls and a glass wall\n",
    "- Model a controller for indoor temperature\n",
    "- Discuss the influence of the controller and of the position of the insulation"
   ]
  },
  {
   "cell_type": "code",
   "execution_count": 1,
   "id": "764b77e2-3f93-4484-9842-6b328305d517",
   "metadata": {},
   "outputs": [],
   "source": [
    "import numpy as np\n",
    "import pandas as pd\n",
    "import matplotlib.pyplot as plt\n",
    "import dm4bem"
   ]
  },
  {
   "cell_type": "markdown",
   "id": "dd09d492-4c1d-422d-9a88-55f8631e5836",
   "metadata": {},
   "source": [
    "## Physical analysis and mathematical modelling\n",
    "\n",
    "![cube](t03_cube_principle.png)\n",
    "> Simple ventilated building with 5 walls and a 1 window with HVAC controller\n",
    "\n",
    "Let’s consider a cubic building with an HVAC systems controolled by a P-controller."
   ]
  },
  {
   "cell_type": "code",
   "execution_count": 2,
   "id": "be8b7721-790a-4502-8d02-b7dbd5cc68ea",
   "metadata": {},
   "outputs": [],
   "source": [
    "# P-controler gain\n",
    "Kp = 1e4            # almost perfect controller Kp -> ∞\n",
    "# Kp = 1e-3           # no controller Kp -> 0"
   ]
  },
  {
   "cell_type": "markdown",
   "id": "d101012e-cfec-4e3d-9268-03e8cc68fceb",
   "metadata": {},
   "source": [
    "The dimension and surface areas of the building are:"
   ]
  },
  {
   "cell_type": "code",
   "execution_count": 3,
   "id": "e81f680f-dfcf-42a7-95f0-25869b407aee",
   "metadata": {},
   "outputs": [],
   "source": [
    "l = 3               # m length of the cubic room\n",
    "Sg = l**2           # m² surface of the glass wall\n",
    "Sc = Si = 5 * Sg    # m² surface of concrete & insulation of the 5 walls"
   ]
  },
  {
   "cell_type": "markdown",
   "id": "a87fb7cf-f842-484d-b5d3-9394acbc642f",
   "metadata": {},
   "source": [
    "The building is ventilated; the volumis air flow rate is `Va_dot`: "
   ]
  },
  {
   "cell_type": "code",
   "execution_count": 4,
   "id": "0e052998-c323-4124-a60b-4b3f520e9664",
   "metadata": {},
   "outputs": [],
   "source": [
    "Va = l**3           # m³ volume of air\n",
    "ACH = 1             # air changes per hour\n",
    "Va_dot = ACH * Va / 3600    # m³/s air infiltration"
   ]
  },
  {
   "cell_type": "markdown",
   "id": "04249e0b-1f3d-47f5-b8f7-024135cda83b",
   "metadata": {},
   "source": [
    "The thermophysical propoerties of air:"
   ]
  },
  {
   "cell_type": "code",
   "execution_count": 5,
   "id": "6b636b8a-a7af-4ebe-9eee-578dea6f7742",
   "metadata": {},
   "outputs": [],
   "source": [
    "air = {'Density': 1.2,                      # kg/m³\n",
    "       'Specific heat': 1000}               # J/kg.K"
   ]
  },
  {
   "cell_type": "markdown",
   "id": "55dcaa59-47e6-4fbd-9c42-ad843a62b4d6",
   "metadata": {},
   "source": [
    "The thermophysical propoerties of the materials and surface areas of the materials in the wall:"
   ]
  },
  {
   "cell_type": "code",
   "execution_count": 6,
   "id": "2db86dfc-2fd4-4a32-94b2-a21dcd1286c8",
   "metadata": {},
   "outputs": [
    {
     "data": {
      "text/html": [
       "<div>\n",
       "<style scoped>\n",
       "    .dataframe tbody tr th:only-of-type {\n",
       "        vertical-align: middle;\n",
       "    }\n",
       "\n",
       "    .dataframe tbody tr th {\n",
       "        vertical-align: top;\n",
       "    }\n",
       "\n",
       "    .dataframe thead th {\n",
       "        text-align: right;\n",
       "    }\n",
       "</style>\n",
       "<table border=\"1\" class=\"dataframe\">\n",
       "  <thead>\n",
       "    <tr style=\"text-align: right;\">\n",
       "      <th></th>\n",
       "      <th>Conductivity</th>\n",
       "      <th>Density</th>\n",
       "      <th>Specific heat</th>\n",
       "      <th>Width</th>\n",
       "      <th>Surface</th>\n",
       "      <th>Slices</th>\n",
       "    </tr>\n",
       "  </thead>\n",
       "  <tbody>\n",
       "    <tr>\n",
       "      <th>Concrete</th>\n",
       "      <td>1.400</td>\n",
       "      <td>2300</td>\n",
       "      <td>880</td>\n",
       "      <td>0.200</td>\n",
       "      <td>45</td>\n",
       "      <td>4</td>\n",
       "    </tr>\n",
       "    <tr>\n",
       "      <th>Insulation</th>\n",
       "      <td>0.027</td>\n",
       "      <td>55</td>\n",
       "      <td>1210</td>\n",
       "      <td>0.080</td>\n",
       "      <td>45</td>\n",
       "      <td>2</td>\n",
       "    </tr>\n",
       "    <tr>\n",
       "      <th>Glass</th>\n",
       "      <td>1.400</td>\n",
       "      <td>2500</td>\n",
       "      <td>750</td>\n",
       "      <td>0.004</td>\n",
       "      <td>9</td>\n",
       "      <td>1</td>\n",
       "    </tr>\n",
       "  </tbody>\n",
       "</table>\n",
       "</div>"
      ],
      "text/plain": [
       "            Conductivity  Density  Specific heat  Width  Surface  Slices\n",
       "Concrete           1.400     2300            880  0.200       45       4\n",
       "Insulation         0.027       55           1210  0.080       45       2\n",
       "Glass              1.400     2500            750  0.004        9       1"
      ]
     },
     "execution_count": 6,
     "metadata": {},
     "output_type": "execute_result"
    }
   ],
   "source": [
    "wall = {'Conductivity': [1.4, 0.027, 1.4],  # W/m.K\n",
    "        'Density': [2300, 55, 2500],        # kg/m³\n",
    "        'Specific heat': [880, 1210, 750],  # J/kg.K\n",
    "        'Width': [0.2, 0.08, 0.004],\n",
    "        'Surface': [5 * l**2, 5 * l**2, l**2],  # m²\n",
    "        'Slices': [4, 2, 1]}                # number of discretizations\n",
    "wall = pd.DataFrame(wall, index=['Concrete', 'Insulation', 'Glass'])\n",
    "wall"
   ]
  },
  {
   "cell_type": "markdown",
   "id": "30e10ea7-83eb-4a06-889e-d1c83b617b14",
   "metadata": {},
   "source": [
    "The radiative properties of the surfaces are:"
   ]
  },
  {
   "cell_type": "code",
   "execution_count": 7,
   "id": "dc7e7e41-a2d7-4cd1-98af-727b06cccc3f",
   "metadata": {},
   "outputs": [],
   "source": [
    "ε_wLW = 0.9     # long wave wall emmisivity (concrete)\n",
    "α_wSW = 0.2     # absortivity white surface\n",
    "ε_gLW = 0.9     # long wave glass emmisivity (glass pyrex)\n",
    "τ_gSW = 0.83    # short wave glass transmitance (glass)\n",
    "α_gSW = 0.1     # short wave glass absortivity\n",
    "\n",
    "σ = 5.67e-8     # W/m².K⁴ Stefan-Bolzmann constant"
   ]
  },
  {
   "cell_type": "markdown",
   "id": "2c96135d-9848-4de1-a3a5-4ffc42ca783c",
   "metadata": {},
   "source": [
    "The view factor between the wall and the window (glass) is:"
   ]
  },
  {
   "cell_type": "code",
   "execution_count": 8,
   "id": "67c901ae-4b0c-4b4f-bed4-b9356f0df75b",
   "metadata": {},
   "outputs": [],
   "source": [
    "Fwg = 1 / 5     # view factor wall - glass"
   ]
  },
  {
   "cell_type": "markdown",
   "id": "d94e4e8a-8c91-41fa-a7be-da0e7a06fcf7",
   "metadata": {},
   "source": [
    "The mean temperature of the surfaces (used for the linearizatio of the radiative heat exchange) is:"
   ]
  },
  {
   "cell_type": "code",
   "execution_count": 9,
   "id": "8e19ff67-43e2-4ead-a662-989bd4db4964",
   "metadata": {},
   "outputs": [],
   "source": [
    "Tm = 20 + 273   # mean temp for radiative exchange"
   ]
  },
  {
   "cell_type": "markdown",
   "id": "466314ca-35c9-4327-9ac5-e412f760baed",
   "metadata": {},
   "source": [
    "Convection coeficients:"
   ]
  },
  {
   "cell_type": "code",
   "execution_count": 10,
   "id": "c77bc614-0b91-4d45-93b6-8562947255de",
   "metadata": {},
   "outputs": [],
   "source": [
    "# convection coefficients, W/m² K\n",
    "h = pd.DataFrame([{'in': 4., 'out': 10}])"
   ]
  },
  {
   "cell_type": "markdown",
   "id": "51842c15-aaba-403b-b2fd-e799c6af77e9",
   "metadata": {
    "tags": []
   },
   "source": [
    "## Thermal circuit\n",
    "\n",
    "![heat_processes](t03_heat_process.png)\n",
    "> Analysis of heat processes.\n",
    "\n",
    "![thermal_circuit](t03_therm_circ.png)\n",
    "> Thermal circuit.\n",
    "\n",
    "![thermal_circuit](t03_TCmatrices.png)\n",
    "> Matrices of the Differential-algebraic system of equations\n",
    "\n",
    "The thermal circuit is discribed by the diferential-algebraic set of equations:\n",
    "\n",
    "$$C \\dot{\\theta} = -(A^T G A) \\theta + A^T G b + f$$\n",
    "$$q = G (-A \\theta + b)$$\n",
    "\n",
    "where:\n",
    "- **A** incidence matrix: shows how the temperature nodes are conected by branches of heat flow. It consists of $n_q$ rows and $n_{\\theta}$ columns, where $n_q$ is the number of flow branches and $n_{\\theta}$  is the number of temperature nodes. If flow *m* enters  into the node *n*, then the element (*m, n*) is 1; if flow *m* exits from the node *n*, then the element (*m, n*) is -1; if flow *m* is not conected to node *n*, then the element (*m, n*) is 0.\n",
    "\n",
    "- **G** conductance matrix: diagonal matrix containing the conductances. Its size is It consists of $n_q \\times n_q$,  where $n_q$ is the number of flow branches.\n",
    "\n",
    "- **b** temperature source vector: if there is no temperature source on the branch *m*, then $b_m = 0$.\n",
    "\n",
    "- **C** capacity matrix: diagonal matrix containing the capacities. If there is no capacity in the node *n*, then $C_{n, n} = 0$.\n",
    "\n",
    "- **f** heat flow source vector: if there is no heat flow source in the node *n*, then $f_n = 0$.\n"
   ]
  },
  {
   "cell_type": "markdown",
   "id": "6a31b5ac-b975-4c14-b625-e110ee331778",
   "metadata": {},
   "source": [
    "**Thermal coductances**"
   ]
  },
  {
   "cell_type": "code",
   "execution_count": 11,
   "id": "ba8c81ea-14e7-4c7f-a3b7-a6a7cc1bf5c0",
   "metadata": {},
   "outputs": [],
   "source": [
    "# Conduction\n",
    "G_cd = wall['Conductivity'] / wall['Width'] * wall['Surface']\n",
    "\n",
    "# Convection\n",
    "Gw = h * wall['Surface'][0]     # wall\n",
    "Gg = h * wall['Surface'][2]     # glass\n",
    "\n",
    "# Long-wave radiation exchnage\n",
    "GLW1 = ε_wLW / (1 - ε_wLW) * wall['Surface']['Insulation'] * 4 * σ * Tm**3\n",
    "GLW2 = Fwg * wall['Surface']['Insulation'] * 4 * σ * Tm**3\n",
    "GLW3 = ε_gLW / (1 - ε_gLW) * wall['Surface']['Glass'] * 4 * σ * Tm**3\n",
    "# long-wave exg. wall-glass\n",
    "GLW = 1 / (1 / GLW1 + 1 / GLW2 + 1 / GLW3)\n",
    "\n",
    "# ventilation & advection\n",
    "Gv = Va_dot * air['Density'] * air['Specific heat']\n",
    "\n",
    "# glass: convection outdoor & conduction\n",
    "Ggs = float(1 / (1 / Gg['out'] + 1 / (2 * G_cd['Glass'])))"
   ]
  },
  {
   "cell_type": "markdown",
   "id": "ac03224d-3aad-4951-86c6-0e8781eb27e1",
   "metadata": {},
   "source": [
    "**Thermal capacities**"
   ]
  },
  {
   "cell_type": "code",
   "execution_count": 12,
   "id": "b04cf80b-e03e-4e59-a470-aebcc8daa97f",
   "metadata": {},
   "outputs": [],
   "source": [
    "C = wall['Density'] * wall['Specific heat'] * wall['Surface'] * wall['Width']\n",
    "C['Air'] = air['Density'] * air['Specific heat'] * Va"
   ]
  },
  {
   "cell_type": "markdown",
   "id": "e0eeaa18-4cbb-4ac3-b7e9-98b3edbb863f",
   "metadata": {},
   "source": [
    "**Incidence matrix**"
   ]
  },
  {
   "cell_type": "code",
   "execution_count": 13,
   "id": "beaddf90-558e-45e4-a912-f5db92f2430a",
   "metadata": {},
   "outputs": [
    {
     "name": "stdout",
     "output_type": "stream",
     "text": [
      "[[ 1.  0.  0.  0.  0.  0.  0.  0.]\n",
      " [-1.  1.  0.  0.  0.  0.  0.  0.]\n",
      " [ 0. -1.  1.  0.  0.  0.  0.  0.]\n",
      " [ 0.  0. -1.  1.  0.  0.  0.  0.]\n",
      " [ 0.  0.  0. -1.  1.  0.  0.  0.]\n",
      " [ 0.  0.  0.  0. -1.  1.  0.  0.]\n",
      " [ 0.  0.  0.  0. -1.  0.  1.  0.]\n",
      " [ 0.  0.  0.  0.  0. -1.  1.  0.]\n",
      " [ 0.  0.  0.  0.  0.  0.  0.  1.]\n",
      " [ 0.  0.  0.  0.  0.  1.  0. -1.]\n",
      " [ 0.  0.  0.  0.  0.  0.  1.  0.]\n",
      " [ 0.  0.  0.  0.  0.  0.  1.  0.]]\n"
     ]
    }
   ],
   "source": [
    "A = np.zeros([12, 8])\n",
    "A[0, 0] = 1\n",
    "A[1, 0], A[1, 1] = -1, 1\n",
    "A[2, 1], A[2, 2] = -1, 1\n",
    "A[3, 2], A[3, 3] = -1, 1\n",
    "A[4, 3], A[4, 4] = -1, 1\n",
    "A[5, 4], A[5, 5] = -1, 1\n",
    "A[6, 4], A[6, 6] = -1, 1\n",
    "A[7, 5], A[7, 6] = -1, 1\n",
    "A[8, 7] = 1\n",
    "A[9, 5], A[9, 7] = 1, -1\n",
    "A[10, 6] = 1\n",
    "A[11, 6] = 1\n",
    "np.set_printoptions(suppress=False)\n",
    "print(A)"
   ]
  },
  {
   "cell_type": "markdown",
   "id": "2c2db9a2-e612-4077-8cb1-9f14a3111fb2",
   "metadata": {},
   "source": [
    "**Conductance matrix**"
   ]
  },
  {
   "cell_type": "code",
   "execution_count": 14,
   "id": "bfcaae82-b594-446e-8db4-e8278e4e1268",
   "metadata": {},
   "outputs": [
    {
     "name": "stdout",
     "output_type": "stream",
     "text": [
      "[[  450.     0.     0. ...     0.     0.     0.]\n",
      " [    0.   630.     0. ...     0.     0.     0.]\n",
      " [    0.     0.   630. ...     0.     0.     0.]\n",
      " ...\n",
      " [    0.     0.     0. ...  6300.     0.     0.]\n",
      " [    0.     0.     0. ...     0.     9.     0.]\n",
      " [    0.     0.     0. ...     0.     0. 10000.]]\n"
     ]
    }
   ],
   "source": [
    "G = np.diag([Gw.iloc[0]['out'], 2 * G_cd['Concrete'], 2 * G_cd['Concrete'],\n",
    "             2 * G_cd['Insulation'], 2 * G_cd['Insulation'],\n",
    "             GLW, Gw.iloc[0]['in'], Gg.iloc[0]['in'], Ggs,\n",
    "             2 * G_cd['Glass'], Gv, Kp])\n",
    "np.set_printoptions(precision=3, threshold=16, suppress=True)\n",
    "print(G)"
   ]
  },
  {
   "cell_type": "markdown",
   "id": "0d0d7f02-bc07-497f-a66b-0f07682530fb",
   "metadata": {},
   "source": [
    "**Capacity matrix**"
   ]
  },
  {
   "cell_type": "code",
   "execution_count": 15,
   "id": "ca2b5a02-7d8e-4292-8a91-46a4ffcc3200",
   "metadata": {},
   "outputs": [
    {
     "name": "stdout",
     "output_type": "stream",
     "text": [
      "[[       0.        0.        0. ...        0.        0.        0.]\n",
      " [       0. 18216000.        0. ...        0.        0.        0.]\n",
      " [       0.        0.        0. ...        0.        0.        0.]\n",
      " ...\n",
      " [       0.        0.        0. ...        0.        0.        0.]\n",
      " [       0.        0.        0. ...        0.    32400.        0.]\n",
      " [       0.        0.        0. ...        0.        0.    67500.]]\n"
     ]
    }
   ],
   "source": [
    "C = np.diag([0, C['Concrete'], 0, C['Insulation'], 0, 0,\n",
    "            C['Air'], C['Glass']])\n",
    "# C = np.diag([0, C['Concrete'], 0, C['Insulation'], 0, 0, 0, 0])\n",
    "print(C)"
   ]
  },
  {
   "cell_type": "markdown",
   "id": "efedaf69-3d44-427b-8901-0a68be3edabd",
   "metadata": {
    "tags": []
   },
   "source": [
    "**Input vector**\n",
    "\n",
    "The vector of *temperature sources* is **b**. It has the size of the number of branches (in this example 12) and it's element corresponding to a branch without a source is zero. If the flow in a source is from low potential to high potential (i.e. from - to +), the source is positive [🔗](https://en.wikipedia.org/wiki/Passive_sign_convention) . Let's give some arbitrary non-zero values to the temperature sources:"
   ]
  },
  {
   "cell_type": "code",
   "execution_count": 16,
   "id": "0c50c546-b80e-4a88-83e2-bac965021651",
   "metadata": {},
   "outputs": [],
   "source": [
    "b = np.zeros(12)\n",
    "b[[0, 8, 10, 11]] = 10 + np.array([0, 80, 100, 110])"
   ]
  },
  {
   "cell_type": "markdown",
   "id": "236ad1c6-64ac-4e42-b7cb-46be011ccc75",
   "metadata": {
    "tags": []
   },
   "source": [
    "The vector of *heat sources* is **f**. It has the size of the number of nodes (in this example 8) and its element corresponding to a node without a heat source is zero. Let's give some arbitrary non-zero values to the heat sources:"
   ]
  },
  {
   "cell_type": "code",
   "execution_count": 17,
   "id": "5215c4c8-82d1-4bbe-aa4f-ba791b6b1b92",
   "metadata": {
    "tags": []
   },
   "outputs": [],
   "source": [
    "f = np.zeros(8)\n",
    "f[[0, 4, 6, 7]] = 1000 + np.array([0, 4000, 6000, 7000])"
   ]
  },
  {
   "cell_type": "markdown",
   "id": "5dee59ff-9153-498a-ab9b-a1bedb6b5d35",
   "metadata": {},
   "source": [
    "The vector of outputs is **y**. It has the size of the number of nodes (in this example 8). The non-zero values of **y** indicate the nodes that are the outputs of the model. Let's assume that all temperatures are of interest:"
   ]
  },
  {
   "cell_type": "code",
   "execution_count": 18,
   "id": "6ced5a80-70fb-4c74-b3ad-54003c038871",
   "metadata": {},
   "outputs": [],
   "source": [
    "y = np.ones(8)"
   ]
  },
  {
   "cell_type": "markdown",
   "id": "a29cd51c-08bf-4395-a070-d2c074eee82d",
   "metadata": {
    "tags": []
   },
   "source": [
    "The inputs vector **u** is:\n",
    "\n",
    "$$\\mathbf{u} = \\begin{bmatrix}\n",
    "\\mathbf{b}\\\\ \n",
    "\\mathbf{f}\n",
    "\\end{bmatrix}$$\n",
    "\n",
    "where **b** is  the vector of temperature sources and **f** the vector of heat flow sources. Note that in Python, a vector is a row. The **u** vector is obtained as an horizontal stack of the sources that are in the circuit (non-zero elements of **b** and **f**):"
   ]
  },
  {
   "cell_type": "code",
   "execution_count": 19,
   "id": "3780da0d-8598-4f86-bb83-fc64e91fede7",
   "metadata": {},
   "outputs": [
    {
     "data": {
      "text/plain": [
       "array([  10.,   90.,  110.,  120., 1000., 5000., 7000., 8000.])"
      ]
     },
     "execution_count": 19,
     "metadata": {},
     "output_type": "execute_result"
    }
   ],
   "source": [
    "u = np.hstack([b[np.nonzero(b)], f[np.nonzero(f)]])\n",
    "u"
   ]
  },
  {
   "cell_type": "markdown",
   "id": "deea7b37-b7b8-4a43-9c86-67bf168161c1",
   "metadata": {},
   "source": [
    "## State-space model\n",
    "\n",
    "The [state-space representation](https://en.m.wikipedia.org/wiki/State-space_representation) of the dynamic model is obtained from the differential-algebraic set of equations:"
   ]
  },
  {
   "cell_type": "code",
   "execution_count": 20,
   "id": "23c9de06-8be7-4dff-a734-027c31349e27",
   "metadata": {},
   "outputs": [],
   "source": [
    "[As, Bs, Cs, Ds] = dm4bem.tc2ss(A, G, b, C, f, y)"
   ]
  },
  {
   "cell_type": "markdown",
   "id": "bcbf9e6a-a765-47ee-aaab-f8a4f61592e9",
   "metadata": {
    "tags": []
   },
   "source": [
    "Let's compare the steady state results obtained with the differential-algebraic equations of the thermal circuit:\n",
    "$$y_{tc} = (A^T G A)^{-1}(A^T G b + f)$$\n",
    "and the state-space:\n",
    "$$y_{ss} = (-C_s A_s^{-1} B_s + D_s) u$$ "
   ]
  },
  {
   "cell_type": "code",
   "execution_count": 21,
   "id": "2fc42d76-0926-4d1d-8444-7ed43b961022",
   "metadata": {},
   "outputs": [
    {
     "name": "stdout",
     "output_type": "stream",
     "text": [
      "[ 16.288  19.193  22.097  82.336 142.574 157.499 121.205 157.814]\n",
      "[ 16.288  19.193  22.097  82.336 142.574 157.499 121.205 157.814]\n",
      "Max error in steady-state between thermal circuit and state-space: 3.48e-12\n"
     ]
    }
   ],
   "source": [
    "yss = (-Cs @ np.linalg.inv(As) @ Bs + Ds) @ u\n",
    "ytc = np.linalg.inv(A.T @ G @ A) @ (A.T @ G @ b + f)\n",
    "\n",
    "print(np.array_str(yss, precision=3, suppress_small=True))\n",
    "print(np.array_str(ytc, precision=3, suppress_small=True))\n",
    "print(f'Max error in steady-state between thermal circuit and state-space:\\\n",
    " {max(abs(yss - ytc)):.2e}')"
   ]
  },
  {
   "cell_type": "markdown",
   "id": "747a5518-38c0-429a-9fbe-22154079afd1",
   "metadata": {},
   "source": [
    "## Dynamic simulation\n",
    "\n",
    "In dynamic simulation, the inputs vary in time. Let's indicate the sources in the circuit by ones:"
   ]
  },
  {
   "cell_type": "code",
   "execution_count": 22,
   "id": "57e866dc-b618-4e73-a64b-45d7ca2a14f2",
   "metadata": {},
   "outputs": [],
   "source": [
    "b = np.zeros(12)\n",
    "b[[0, 8, 10, 11]] = 1\n",
    "\n",
    "f = np.zeros(8)\n",
    "f[[0, 4, 6, 7]] = 1"
   ]
  },
  {
   "cell_type": "markdown",
   "id": "5722c49c-477b-4d26-968b-24caf8830497",
   "metadata": {},
   "source": [
    "Let's consider that the output of the circuit is the indoor temperature (i.e. the temperature of node 6):"
   ]
  },
  {
   "cell_type": "code",
   "execution_count": 23,
   "id": "95c20190-8892-428e-b49b-ef22009a1d60",
   "metadata": {},
   "outputs": [],
   "source": [
    "y = np.zeros(8)\n",
    "y[[6]] = 1"
   ]
  },
  {
   "cell_type": "markdown",
   "id": "93035e1b-8c59-4bb1-8168-c149b29ce9e3",
   "metadata": {},
   "source": [
    "The state-space representation is obtained from the differential-algebraic equations of the thermal circuit:"
   ]
  },
  {
   "cell_type": "code",
   "execution_count": 24,
   "id": "cb57a394-e13d-4c8c-b605-3793df66f1fe",
   "metadata": {},
   "outputs": [],
   "source": [
    "[As, Bs, Cs, Ds] = dm4bem.tc2ss(A, G, b, C, f, y)"
   ]
  },
  {
   "cell_type": "markdown",
   "id": "9c0d162e-389e-4de3-b59f-76580adb72ea",
   "metadata": {
    "tags": []
   },
   "source": [
    "### Time step\n",
    "\n",
    "The maximum time step for numerical stability of Euler explicit itegration in time is given by the minimum eigenvalue $\\lambda$ of the state matrix $A_s$:\n",
    "\n",
    "$$ \\Delta t \\leq -2 / \\min \\lambda_i = \\min T_i/2$$\n",
    "\n",
    "where $T_i$ is the time constants, $T_i = - \\frac{1}{\\lambda_i} $"
   ]
  },
  {
   "cell_type": "code",
   "execution_count": 25,
   "id": "6327cf9d-eb39-4d3a-8151-9be60df30da8",
   "metadata": {},
   "outputs": [
    {
     "name": "stdout",
     "output_type": "stream",
     "text": [
      "Maximum time step: 6.42 s\n"
     ]
    }
   ],
   "source": [
    "dtmax = min(-2. / np.linalg.eig(As)[0])\n",
    "print(f'Maximum time step: {dtmax:.2f} s')"
   ]
  },
  {
   "cell_type": "markdown",
   "id": "1938a5eb-db23-4057-975b-da9dedef5cdd",
   "metadata": {},
   "source": [
    "The maximum time step for numerical stability of Euler explicit integration in time depends on the value of the P-controller gain and if the capacities of the indoor air and window glass are taken into account. \n",
    "\n",
    "For example\n",
    "- if `Kp = 1e4` (i.e. powerful P-controller) and `C = np.diag([0, C['Concrete'], 0, C['Insulation'], 0, 0, C['Air'], C['Glass']])`, the maximum time step is `6.42 s`.\n",
    "- if `Kp = 1e-3` (i.e. practically free floating building) and `C = np.diag([0, C['Concrete'], 0, C['Insulation'], 0, 0, 0, 0])`, the maximum time step is `10029.45 s`."
   ]
  },
  {
   "cell_type": "markdown",
   "id": "17f1b010-7d23-46f1-8c13-cc1e7704bc0c",
   "metadata": {},
   "source": [
    "Let's chose a time step smaller than `dtmax`:"
   ]
  },
  {
   "cell_type": "code",
   "execution_count": 26,
   "id": "d634f2a6-d989-42f4-8f51-d973d63b5027",
   "metadata": {},
   "outputs": [],
   "source": [
    "dt = 360\n",
    "dt = 5"
   ]
  },
  {
   "cell_type": "markdown",
   "id": "1dac581d-272f-4cdd-8843-eeb44dd6a58d",
   "metadata": {
    "tags": []
   },
   "source": [
    "### Step response\n",
    "\n",
    "Let's obtain the dynamic response of the system to a step input. For the duration of simulation:"
   ]
  },
  {
   "cell_type": "code",
   "execution_count": 27,
   "id": "ba3db8fd-b322-43ca-9038-4d1a197a795c",
   "metadata": {},
   "outputs": [],
   "source": [
    "duration = 3600 * 24 * 2        # [s]"
   ]
  },
  {
   "cell_type": "markdown",
   "id": "96d96289-67fe-480c-a8db-1f05024c95f6",
   "metadata": {},
   "source": [
    "the number of steps is"
   ]
  },
  {
   "cell_type": "code",
   "execution_count": 28,
   "id": "d11f6844-2bc3-44af-aae7-fbc4f6ec60ec",
   "metadata": {},
   "outputs": [],
   "source": [
    "n = int(np.floor(duration / dt))"
   ]
  },
  {
   "cell_type": "markdown",
   "id": "a265827f-d2d7-49ed-94a8-641708e131a9",
   "metadata": {},
   "source": [
    "The time vector (with time step `dt`) is"
   ]
  },
  {
   "cell_type": "code",
   "execution_count": 29,
   "id": "6062f401-b335-460a-bbba-61ddeb700662",
   "metadata": {},
   "outputs": [],
   "source": [
    "t = np.arange(0, n * dt, dt)    # time"
   ]
  },
  {
   "cell_type": "markdown",
   "id": "e1cf346d-6283-4095-aa29-6dc378f54eb6",
   "metadata": {
    "tags": []
   },
   "source": [
    "For the input vector **u**, the outdoor temperatures will be `To = 1`, the indoor set-point temperature will `Tsp =0`, and the heat flow sources will be zero. "
   ]
  },
  {
   "cell_type": "code",
   "execution_count": 30,
   "id": "3da47c23-3af1-4515-b919-2b394a655a2f",
   "metadata": {},
   "outputs": [],
   "source": [
    "# Vectors of state and input (in time)\n",
    "n_tC = As.shape[0]              # no of state variables (temps with capacity)\n",
    "# u = [To To To Tsp Phio Phii Qaux Phia]\n",
    "u = np.zeros([8, n])\n",
    "u[0:3, :] = np.ones([3, n])"
   ]
  },
  {
   "cell_type": "markdown",
   "id": "c26d5657-c137-46c9-93e2-6340e13f9d7d",
   "metadata": {},
   "source": [
    "The vectors for the evolution of **tem**peratures (states) in time for Euler **exp**licit and **imp**licit are:"
   ]
  },
  {
   "cell_type": "code",
   "execution_count": 31,
   "id": "242de134-716f-4695-8253-cc6558b5e94e",
   "metadata": {},
   "outputs": [],
   "source": [
    "temp_exp = np.zeros([n_tC, t.shape[0]])\n",
    "temp_imp = np.zeros([n_tC, t.shape[0]])"
   ]
  },
  {
   "cell_type": "markdown",
   "id": "c6b0cfa0-301c-4bdb-8f36-8fa6d2bebee3",
   "metadata": {
    "tags": []
   },
   "source": [
    "By integrating the state-space model\n",
    "$$\\left\\{\\begin{array}{rr}\n",
    "\\dot{\\theta}=A_s \\theta + B_s u\\\\ \n",
    "y = C_s \\theta + D_s u\n",
    "\\end{array}\\right.$$\n",
    "by using Euler forward (or explicit)\n",
    "$$ \\theta_{k+1} = (I + \\Delta t A) \\theta _k + \\Delta t B u_k $$\n",
    "and Euler backward (or implicit) integration\n",
    "$$\\theta_{k+1} = (I - \\Delta t A)^{-1} ( \\theta _k + \\Delta t B u_k )$$"
   ]
  },
  {
   "cell_type": "code",
   "execution_count": 32,
   "id": "c6e318a6-782e-4976-8b9e-3f5bd0d01797",
   "metadata": {},
   "outputs": [],
   "source": [
    "I = np.eye(n_tC)\n",
    "for k in range(n - 1):\n",
    "    temp_exp[:, k + 1] = (I + dt * As) @\\\n",
    "        temp_exp[:, k] + dt * Bs @ u[:, k]\n",
    "    temp_imp[:, k + 1] = np.linalg.inv(I - dt * As) @\\\n",
    "        (temp_imp[:, k] + dt * Bs @ u[:, k])"
   ]
  },
  {
   "cell_type": "markdown",
   "id": "dc2b5250-4741-4dc7-9e48-f1961e6070b0",
   "metadata": {},
   "source": [
    "we obtain the outputs"
   ]
  },
  {
   "cell_type": "code",
   "execution_count": 33,
   "id": "3501632a-bdbd-44ed-9733-0e10c97731b5",
   "metadata": {},
   "outputs": [
    {
     "data": {
      "image/png": "[encoded data removed]",
      "text/plain": [
       "<Figure size 432x288 with 1 Axes>"
      ]
     },
     "metadata": {
      "needs_background": "light"
     },
     "output_type": "display_data"
    }
   ],
   "source": [
    "y_exp = Cs @ temp_exp + Ds @  u\n",
    "y_imp = Cs @ temp_imp + Ds @  u\n",
    "\n",
    "fig, ax = plt.subplots()\n",
    "ax.plot(t / 3600, y_exp.T, t / 3600, y_imp.T)\n",
    "ax.set(xlabel='Time [h]',\n",
    "       ylabel='$T_i$ [°C]',\n",
    "       title='Step input: To = 1°C')\n",
    "plt.show()"
   ]
  },
  {
   "cell_type": "code",
   "execution_count": 34,
   "id": "d6801343-7156-4c91-b7cd-f93f93229ad2",
   "metadata": {},
   "outputs": [
    {
     "name": "stdout",
     "output_type": "stream",
     "text": [
      "Steady-state indoor temperature obtained with:\n",
      "- DAE model: 0.0059 °C\n",
      "- response to step input:0.0058 °C\n"
     ]
    }
   ],
   "source": [
    "b = np.zeros(12)\n",
    "b[[0, 8, 10]] = 1\n",
    "f = np.zeros(8)\n",
    "\n",
    "ytc = np.linalg.inv(A.T @ G @ A) @ (A.T @ G @ b + f)\n",
    "print('Steady-state indoor temperature obtained with:')\n",
    "print(f'- DAE model: {ytc[6]:.4f} °C')\n",
    "print(f'- response to step input:{float(y_exp[:, -2]):.4f} °C')"
   ]
  },
  {
   "cell_type": "markdown",
   "id": "dc0f27d2-4e15-4fe3-937c-778a80b46061",
   "metadata": {},
   "source": [
    "### Simulation with weather data\n",
    "\n",
    "Read the hourly weather data file from start date to end date. The data are for a year (the choice of 2000 for the year is arbitrary)."
   ]
  },
  {
   "cell_type": "code",
   "execution_count": 35,
   "id": "96337ca7-7563-4f62-abd2-df7b05e4929a",
   "metadata": {},
   "outputs": [],
   "source": [
    "filename = 'FRA_Lyon.074810_IWEC.epw'\n",
    "start_date = '2000-01-03 12:00:00'\n",
    "end_date = '2000-02-05 18:00:00'\n",
    "\n",
    "# Read weather data from Energyplus .epw file\n",
    "[data, meta] = dm4bem.read_epw(filename, coerce_year=None)\n",
    "weather = data[[\"temp_air\", \"dir_n_rad\", \"dif_h_rad\"]]\n",
    "del data\n",
    "weather.index = weather.index.map(lambda t: t.replace(year=2000))\n",
    "weather = weather[(weather.index >= start_date) & (\n",
    "    weather.index < end_date)]"
   ]
  },
  {
   "cell_type": "markdown",
   "id": "71b03819-1b8d-4a54-9c8a-fb56364d07ac",
   "metadata": {},
   "source": [
    "From weather data, calculate the hourly solar radiation on a tilted surface, `Φt1` [W]:"
   ]
  },
  {
   "cell_type": "code",
   "execution_count": 36,
   "id": "92aa26bf-77c8-4c31-aee0-0886cf86ab69",
   "metadata": {},
   "outputs": [],
   "source": [
    "surface_orientation = {'slope': 90,\n",
    "                       'azimuth': 0,\n",
    "                       'latitude': 45}\n",
    "albedo = 0.2\n",
    "rad_surf1 = dm4bem.sol_rad_tilt_surf(weather, surface_orientation, albedo)\n",
    "rad_surf1['Φt1'] = rad_surf1.sum(axis=1)"
   ]
  },
  {
   "cell_type": "markdown",
   "id": "bacf20a0-9eef-41cd-b97c-a66da45a9f18",
   "metadata": {},
   "source": [
    "The weather data is at the time-step of 1h. It needs to be at time step of `dt`. "
   ]
  },
  {
   "cell_type": "code",
   "execution_count": 37,
   "id": "93c1c908-ff9c-444a-9c69-b5e77270d87a",
   "metadata": {},
   "outputs": [],
   "source": [
    "data = pd.concat([weather['temp_air'], rad_surf1['Φt1']], axis=1)\n",
    "data = data.resample(str(dt) + 'S').interpolate(method='linear')\n",
    "data = data.rename(columns={'temp_air': 'To'})"
   ]
  },
  {
   "cell_type": "markdown",
   "id": "11dc5a18-d6d6-4491-b78d-4aaaa2086d85",
   "metadata": {},
   "source": [
    "Let's consider the indoor temperature setpoint `Ti` and auxiliary heat flow `Qa` constant for the whole simulation period."
   ]
  },
  {
   "cell_type": "code",
   "execution_count": 38,
   "id": "6d61f97c-5a6b-4bef-9353-7036b195eafa",
   "metadata": {},
   "outputs": [],
   "source": [
    "data['Ti'] = 20 * np.ones(data.shape[0])\n",
    "data['Qa'] = 0 * np.ones(data.shape[0])"
   ]
  },
  {
   "cell_type": "markdown",
   "id": "4bb67e8f-32d5-4d0b-bb76-0f2fab1cf27e",
   "metadata": {},
   "source": [
    "The simulation time vector, at time step `dt`is:"
   ]
  },
  {
   "cell_type": "code",
   "execution_count": 39,
   "id": "75ad6551-edf1-4229-a310-d14eb31d77bd",
   "metadata": {},
   "outputs": [],
   "source": [
    "t = dt * np.arange(data.shape[0])"
   ]
  },
  {
   "cell_type": "markdown",
   "id": "9c94a6eb-0994-47e7-8784-0572e76963db",
   "metadata": {},
   "source": [
    "The input vector is formed by the temperature sources $\\left [ T_o, T_o ,T_o, T_{i,sp} \\right ]$ and the heat flow sources $\\left [ \\Phi_o, \\Phi_i, \\dot{Q_a}, \\Phi_a \\right ]$"
   ]
  },
  {
   "cell_type": "code",
   "execution_count": 40,
   "id": "6b9bf1da-df99-4c29-a995-a37235f92e2c",
   "metadata": {},
   "outputs": [],
   "source": [
    "u = pd.concat([data['To'], data['To'], data['To'], data['Ti'],\n",
    "               α_wSW * wall['Surface']['Concrete'] * data['Φt1'],\n",
    "               τ_gSW * α_wSW * wall['Surface']['Glass'] * data['Φt1'],\n",
    "               data['Qa'],\n",
    "               α_gSW * wall['Surface']['Glass'] * data['Φt1']], axis=1)"
   ]
  },
  {
   "cell_type": "markdown",
   "id": "95d371b1-e61b-4092-8a03-3c0052fa1f7e",
   "metadata": {},
   "source": [
    "The initial value of the state-vector can be different of zero:"
   ]
  },
  {
   "cell_type": "code",
   "execution_count": 41,
   "id": "3428bbdd-d34a-4d93-8438-d1c2fe8c9279",
   "metadata": {},
   "outputs": [],
   "source": [
    "temp_exp = 20 * np.ones([As.shape[0], u.shape[0]])"
   ]
  },
  {
   "cell_type": "markdown",
   "id": "a9f75273-a2d7-4bea-b30d-c8b1adeec56f",
   "metadata": {},
   "source": [
    "Explicit Euler integration in time\n",
    "$$ \\theta_{k+1} = (I + \\Delta t A) \\theta _k + \\Delta t B u_k $$"
   ]
  },
  {
   "cell_type": "code",
   "execution_count": 42,
   "id": "6dd045e0-2a7a-4946-9f37-ed341d9da11d",
   "metadata": {},
   "outputs": [],
   "source": [
    "for k in range(u.shape[0] - 1):\n",
    "    temp_exp[:, k + 1] = (I + dt * As) @ temp_exp[:, k]\\\n",
    "        + dt * Bs @ u.iloc[k, :]"
   ]
  },
  {
   "cell_type": "markdown",
   "id": "c7fcc96b-baa9-4582-a9df-8042f90352ed",
   "metadata": {
    "tags": []
   },
   "source": [
    "yields the time variation of state variable $\\theta$, from which we obtain the variation of the output (i.e. indoor temperature):\n",
    "$$y = C_s \\theta + D_s u$$\n",
    "and the variation of the heat flow of the HVAC system:\n",
    "$$q_{HVAC} = K_p (T_{i,sp} - y)$$\n",
    "where $K_p$ is the gain of the P-controller and $T_{i,sp}$ is the HVAC-setpoint for the indoor temperature."
   ]
  },
  {
   "cell_type": "code",
   "execution_count": 43,
   "id": "d4d7fecc-4261-4c04-9056-d5c7c43caf18",
   "metadata": {},
   "outputs": [
    {
     "data": {
      "image/png": "[encoded data removed]",
      "text/plain": [
       "<Figure size 432x288 with 2 Axes>"
      ]
     },
     "metadata": {
      "needs_background": "light"
     },
     "output_type": "display_data"
    }
   ],
   "source": [
    "y_exp = Cs @ temp_exp + Ds @ u.to_numpy().T\n",
    "q_HVAC = Kp * (data['Ti'] - y_exp[0, :])\n",
    "\n",
    "fig, axs = plt.subplots(2, 1)\n",
    "# plot indoor and outdoor temperature\n",
    "axs[0].plot(t / 3600, y_exp[0, :], label='$T_{indoor}$')\n",
    "axs[0].plot(t / 3600, data['To'], label='$T_{outdoor}$')\n",
    "axs[0].set(xlabel='Time [h]',\n",
    "           ylabel='Temperatures [°C]',\n",
    "           title='Simulation for weather')\n",
    "axs[0].legend(loc='upper right')\n",
    "\n",
    "# plot total solar radiation and HVAC heat flow\n",
    "axs[1].plot(t / 3600,  q_HVAC, label='$q_{HVAC}$')\n",
    "axs[1].plot(t / 3600, data['Φt1'], label='$Φ_{total}$')\n",
    "axs[1].set(xlabel='Time [h]',\n",
    "           ylabel='Heat flows [W]')\n",
    "axs[1].legend(loc='upper right')\n",
    "\n",
    "fig.tight_layout()"
   ]
  },
  {
   "cell_type": "markdown",
   "id": "0ebf5b58-0cf9-4c35-b751-09382cfd4510",
   "metadata": {},
   "source": [
    "## Discussion\n",
    "\n",
    "The time step depends on:\n",
    "\n",
    "- P-controller gain `Kp`:\n",
    "    - if $K_p \\rightarrow \\infty$, then the controller is perfect and the time step needs to be small;\n",
    "    - if $K_p \\rightarrow 0$, then,the controller is inefffective and the building is in free-running.\n",
    "- Capacities considered into the model:\n",
    "    - if the capacities of the air $C_a =$ `C['Air']` and $C_g =$ `C['Glass']`are considered, then the time step is small;\n",
    "    - if the capacities of the air and of the glas are zero, then the time step is large.\n",
    "\n",
    "The controller models an HVAC system capable to heat (when $q_{HVAC} > 0$) and to cool $q_{HVAC} < 0$)."
   ]
  },
  {
   "cell_type": "markdown",
   "id": "08d18237-b075-4f6c-82df-fa70d47a5216",
   "metadata": {},
   "source": [
    "**References**\n",
    "\n",
    "C. Ghiaus (2013) Causality issue in the heat balance method for calculating the design heating and cooling loads, *Energy* 50: 292-301, https://doi.org/10.1016/j.energy.2012.10.024"
   ]
  }
 ],
 "metadata": {
  "kernelspec": {
   "display_name": "Python 3",
   "language": "python",
   "name": "python3"
  },
  "language_info": {
   "codemirror_mode": {
    "name": "ipython",
    "version": 3
   },
   "file_extension": ".py",
   "mimetype": "text/x-python",
   "name": "python",
   "nbconvert_exporter": "python",
   "pygments_lexer": "ipython3",
   "version": "3.8.8"
  }
 },
 "nbformat": 4,
 "nbformat_minor": 5
}
